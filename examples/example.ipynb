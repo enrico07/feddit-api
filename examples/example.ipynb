{
 "cells": [
  {
   "cell_type": "code",
   "execution_count": null,
   "id": "50a465b4",
   "metadata": {},
   "outputs": [],
   "source": [
    "import requests"
   ]
  },
  {
   "cell_type": "markdown",
   "id": "716747e6",
   "metadata": {},
   "source": [
    "# Retrieve Comments"
   ]
  },
  {
   "cell_type": "code",
   "execution_count": null,
   "id": "caeb5111",
   "metadata": {},
   "outputs": [],
   "source": [
    "params = {\n",
    "    \"subfeddit_name\": \"Dummy Topic 1\",\n",
    "    \"n_comments\": 1,\n",
    "    \"min_polarity\": 0.5,\n",
    "    \"max_polarity\": 0.7,\n",
    "    \"from_date\": \"01-06-2022\",\n",
    "    \"to_date\": \"05-06-2022\",\n",
    "    \"polarity_sorting\": \"desc\"\n",
    "}\n",
    "\n",
    "requests.get(\"http://127.0.0.1:8081/comments\", params=params).json()"
   ]
  }
 ],
 "metadata": {
  "kernelspec": {
   "display_name": "feddit",
   "language": "python",
   "name": "python3"
  },
  "language_info": {
   "codemirror_mode": {
    "name": "ipython",
    "version": 3
   },
   "file_extension": ".py",
   "mimetype": "text/x-python",
   "name": "python",
   "nbconvert_exporter": "python",
   "pygments_lexer": "ipython3",
   "version": "3.11.11"
  }
 },
 "nbformat": 4,
 "nbformat_minor": 5
}
