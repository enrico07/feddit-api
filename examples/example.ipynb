{
 "cells": [
  {
   "cell_type": "code",
   "execution_count": 1,
   "id": "50a465b4",
   "metadata": {},
   "outputs": [],
   "source": [
    "import requests"
   ]
  },
  {
   "cell_type": "code",
   "execution_count": null,
   "id": "caeb5111",
   "metadata": {},
   "outputs": [
    {
     "data": {
      "text/plain": [
       "[]"
      ]
     },
     "execution_count": 23,
     "metadata": {},
     "output_type": "execute_result"
    }
   ],
   "source": [
    "params = {\n",
    "    \"subfeddit_name\": \"Dummy Topic 1\",\n",
    "    \"n_comments\": 20000,\n",
    "    # \"min_polarity\": 0.5,\n",
    "    # \"max_polarity\": 0.5,\n",
    "    \"to_date\": \"03-06-2021\",\n",
    "    \"from_date\": \"03-06-2021\",\n",
    "}\n",
    "\n",
    "requests.get(\"http://127.0.0.1:8001/comments\", params=params).json()"
   ]
  }
 ],
 "metadata": {
  "kernelspec": {
   "display_name": "feddit",
   "language": "python",
   "name": "python3"
  },
  "language_info": {
   "codemirror_mode": {
    "name": "ipython",
    "version": 3
   },
   "file_extension": ".py",
   "mimetype": "text/x-python",
   "name": "python",
   "nbconvert_exporter": "python",
   "pygments_lexer": "ipython3",
   "version": "3.11.11"
  }
 },
 "nbformat": 4,
 "nbformat_minor": 5
}
